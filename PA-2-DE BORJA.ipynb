{
 "cells": [
  {
   "cell_type": "markdown",
   "id": "5b87314c",
   "metadata": {},
   "source": [
    "## Normalization Problem"
   ]
  },
  {
   "cell_type": "code",
   "execution_count": 23,
   "id": "e9c2b5aa",
   "metadata": {},
   "outputs": [
    {
     "name": "stdout",
     "output_type": "stream",
     "text": [
      "Original Array X:\n",
      " [[0.50248164 0.69350074 0.3849926  0.77184266 0.97519001]\n",
      " [0.06570432 0.41533345 0.6451808  0.22098987 0.54546848]\n",
      " [0.92862371 0.29256714 0.98776383 0.27544919 0.64808723]\n",
      " [0.15785909 0.60065347 0.74268021 0.64750699 0.51281668]\n",
      " [0.93430494 0.74846206 0.8469539  0.17143999 0.08361038]]\n",
      "\n",
      "Mean: 0.551978535466994\n",
      "Standard Deviation: 0.2811897534758376\n",
      "\n",
      "Normalized Array X:\n",
      " [[-0.17602665  0.50329787 -0.59385497  0.7819066   1.50507432]\n",
      " [-1.72934543 -0.48595329  0.33145682 -1.17710075 -0.02315183]\n",
      " [ 1.33946975 -0.92254925  1.5497908  -0.98342613  0.34179301]\n",
      " [-1.40161381  0.17310353  0.67819568  0.33972951 -0.13927197]\n",
      " [ 1.35967404  0.69875778  1.04902602 -1.35331584 -1.66566581]]\n",
      "\n",
      "SAVED NORMALIZED NDARRAY as X_normalized.npy\n"
     ]
    }
   ],
   "source": [
    "import numpy as np\n",
    "\n",
    "## Create a function that will generate random numbers between 0 and 1\n",
    "x = np.random.rand(5,5)\n",
    "print (\"Original Array X:\\n\", x)\n",
    "\n",
    "## .mean() is utilized to compute the average of the elements\n",
    "x_mean = x.mean()\n",
    "print (\"\\nMean:\", x_mean)\n",
    "\n",
    "## .std() is utilized to compute the dispersion of the data set\n",
    "x_std = x.std()\n",
    "print (\"Standard Deviation:\", x_std)\n",
    "## Creating a normalized ndarray\n",
    "x_normalized = (x - x_mean) / x_std\n",
    "print (\"\\nNormalized Array X:\\n\", x_normalized)\n",
    "\n",
    "## Saving the result as an .npy file\n",
    "np.save(\"x_normalized.npy\", x_normalized)\n",
    "print (\"\\nSAVED NORMALIZED NDARRAY as X_normalized.npy\")"
   ]
  },
  {
   "cell_type": "markdown",
   "id": "6b9a4bf5",
   "metadata": {},
   "source": [
    "## Divisible by 3 Problem"
   ]
  },
  {
   "cell_type": "code",
   "execution_count": 15,
   "id": "b7f2999f",
   "metadata": {},
   "outputs": [
    {
     "name": "stdout",
     "output_type": "stream",
     "text": [
      "\n",
      "Matrix A (10x10)\n",
      "\n",
      "[[    1     4     9    16    25    36    49    64    81   100]\n",
      " [  121   144   169   196   225   256   289   324   361   400]\n",
      " [  441   484   529   576   625   676   729   784   841   900]\n",
      " [  961  1024  1089  1156  1225  1296  1369  1444  1521  1600]\n",
      " [ 1681  1764  1849  1936  2025  2116  2209  2304  2401  2500]\n",
      " [ 2601  2704  2809  2916  3025  3136  3249  3364  3481  3600]\n",
      " [ 3721  3844  3969  4096  4225  4356  4489  4624  4761  4900]\n",
      " [ 5041  5184  5329  5476  5625  5776  5929  6084  6241  6400]\n",
      " [ 6561  6724  6889  7056  7225  7396  7569  7744  7921  8100]\n",
      " [ 8281  8464  8649  8836  9025  9216  9409  9604  9801 10000]]\n",
      "\n",
      "\n",
      "ALL ELEMENTS DIVISIBLE BY 3\n",
      "\n",
      "[   9   36   81  144  225  324  441  576  729  900 1089 1296 1521 1764\n",
      " 2025 2304 2601 2916 3249 3600 3969 4356 4761 5184 5625 6084 6561 7056\n",
      " 7569 8100 8649 9216 9801]\n",
      "\n",
      "Result Saved as div_by_3.npy\n"
     ]
    }
   ],
   "source": [
    "import numpy as np\n",
    "\n",
    "## We start out by creating an array \n",
    "numbers = np.arange(1,101)\n",
    "\n",
    "## The first 100 positive integers are squared \n",
    "square = numbers ** 2\n",
    "\n",
    "## The array io then reshaped into a 10x10 matrix\n",
    "a = square.reshape(10, 10)\n",
    "print (\"\\nMatrix A (10x10)\\n\")\n",
    "print (a)\n",
    "\n",
    "## Modulo is utilized to reveal the integers divisible by 3 in the matrix\n",
    "div_by_3 = a[a % 3 == 0]\n",
    "print (\"\\n\\nALL ELEMENTS DIVISIBLE BY 3\\n\")\n",
    "print (div_by_3)\n",
    "\n",
    "## Saving the result as an .npy file\n",
    "np.save(\"div_by_3.npy\", div_by_3)\n",
    "print ('\\nResult Saved as div_by_3.npy')"
   ]
  }
 ],
 "metadata": {
  "kernelspec": {
   "display_name": "Python [conda env:base] *",
   "language": "python",
   "name": "conda-base-py"
  },
  "language_info": {
   "codemirror_mode": {
    "name": "ipython",
    "version": 3
   },
   "file_extension": ".py",
   "mimetype": "text/x-python",
   "name": "python",
   "nbconvert_exporter": "python",
   "pygments_lexer": "ipython3",
   "version": "3.13.5"
  }
 },
 "nbformat": 4,
 "nbformat_minor": 5
}
